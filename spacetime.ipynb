{
 "cells": [
  {
   "cell_type": "code",
   "execution_count": 1,
   "metadata": {},
   "outputs": [
    {
     "data": {
      "text/plain": [
       "[0,\n",
       " 1,\n",
       " 2,\n",
       " 3,\n",
       " 4,\n",
       " 5,\n",
       " 6,\n",
       " 7,\n",
       " 8,\n",
       " 9,\n",
       " 10,\n",
       " 11,\n",
       " 12,\n",
       " 13,\n",
       " 14,\n",
       " 15,\n",
       " 16,\n",
       " 17,\n",
       " 18,\n",
       " 19,\n",
       " 20,\n",
       " 21,\n",
       " 22,\n",
       " 23,\n",
       " 24,\n",
       " 25,\n",
       " 26,\n",
       " 27,\n",
       " 28,\n",
       " 29,\n",
       " 30,\n",
       " 31,\n",
       " 32,\n",
       " 33,\n",
       " 34,\n",
       " 35,\n",
       " 36,\n",
       " 37,\n",
       " 38,\n",
       " 39,\n",
       " 40,\n",
       " 41,\n",
       " 42,\n",
       " 43,\n",
       " 44,\n",
       " 45,\n",
       " 46,\n",
       " 47,\n",
       " 48,\n",
       " 49,\n",
       " 50,\n",
       " 51,\n",
       " 52,\n",
       " 53,\n",
       " 54,\n",
       " 55,\n",
       " 56,\n",
       " 57,\n",
       " 58,\n",
       " 59,\n",
       " 60,\n",
       " 61,\n",
       " 62,\n",
       " 63,\n",
       " 64,\n",
       " 65,\n",
       " 66,\n",
       " 67,\n",
       " 68,\n",
       " 69,\n",
       " 70,\n",
       " 71,\n",
       " 72,\n",
       " 73,\n",
       " 74,\n",
       " 75,\n",
       " 76,\n",
       " 77,\n",
       " 78,\n",
       " 79,\n",
       " 80,\n",
       " 81,\n",
       " 82,\n",
       " 83,\n",
       " 84,\n",
       " 85,\n",
       " 86,\n",
       " 87,\n",
       " 88,\n",
       " 89,\n",
       " 90,\n",
       " 91,\n",
       " 92,\n",
       " 93,\n",
       " 94,\n",
       " 95,\n",
       " 96,\n",
       " 97,\n",
       " 98,\n",
       " 99]"
      ]
     },
     "execution_count": 1,
     "metadata": {},
     "output_type": "execute_result"
    }
   ],
   "source": [
    "import numpy as np\n",
    "r=list(range(100))\n",
    "r"
   ]
  },
  {
   "cell_type": "code",
   "execution_count": 12,
   "metadata": {},
   "outputs": [
    {
     "data": {
      "text/plain": [
       "[45,\n",
       " 33,\n",
       " 11,\n",
       " 72,\n",
       " 70,\n",
       " 17,\n",
       " 57,\n",
       " 40,\n",
       " 56,\n",
       " 97,\n",
       " 3,\n",
       " 23,\n",
       " 67,\n",
       " 59,\n",
       " 9,\n",
       " 73,\n",
       " 84,\n",
       " 10,\n",
       " 66,\n",
       " 12,\n",
       " 81,\n",
       " 80,\n",
       " 37,\n",
       " 61,\n",
       " 20,\n",
       " 83,\n",
       " 31,\n",
       " 18,\n",
       " 85,\n",
       " 36,\n",
       " 68,\n",
       " 89,\n",
       " 63,\n",
       " 94,\n",
       " 53,\n",
       " 42,\n",
       " 50,\n",
       " 49,\n",
       " 29,\n",
       " 76,\n",
       " 78,\n",
       " 7,\n",
       " 74,\n",
       " 43,\n",
       " 79,\n",
       " 98,\n",
       " 93,\n",
       " 16,\n",
       " 86,\n",
       " 48,\n",
       " 6,\n",
       " 58,\n",
       " 13,\n",
       " 25,\n",
       " 91,\n",
       " 19,\n",
       " 21,\n",
       " 15,\n",
       " 22,\n",
       " 64,\n",
       " 0,\n",
       " 69,\n",
       " 51,\n",
       " 32,\n",
       " 82,\n",
       " 92,\n",
       " 75,\n",
       " 54,\n",
       " 24,\n",
       " 27,\n",
       " 46,\n",
       " 39,\n",
       " 62,\n",
       " 47,\n",
       " 60,\n",
       " 2,\n",
       " 8,\n",
       " 90,\n",
       " 14,\n",
       " 41,\n",
       " 65,\n",
       " 95,\n",
       " 71,\n",
       " 28,\n",
       " 34,\n",
       " 87,\n",
       " 38,\n",
       " 88,\n",
       " 55,\n",
       " 1,\n",
       " 96,\n",
       " 52,\n",
       " 44,\n",
       " 35,\n",
       " 5,\n",
       " 30,\n",
       " 26,\n",
       " 4,\n",
       " 99,\n",
       " 77]"
      ]
     },
     "execution_count": 12,
     "metadata": {},
     "output_type": "execute_result"
    }
   ],
   "source": [
    "import random\n",
    "random.shuffle(r)\n",
    "r"
   ]
  },
  {
   "cell_type": "code",
   "execution_count": 10,
   "metadata": {},
   "outputs": [
    {
     "name": "stdout",
     "output_type": "stream",
     "text": [
      "found\n"
     ]
    }
   ],
   "source": [
    "key=32\n",
    "f=False\n",
    "for ele in r:\n",
    "    if(ele==key):\n",
    "        f=True\n",
    "if(f):\n",
    "    print(\"found\")\n",
    "else:\n",
    "    print(\"not\")"
   ]
  },
  {
   "cell_type": "code",
   "execution_count": 27,
   "metadata": {},
   "outputs": [
    {
     "data": {
      "text/plain": [
       "64"
      ]
     },
     "execution_count": 27,
     "metadata": {},
     "output_type": "execute_result"
    }
   ],
   "source": [
    "import math\n",
    "def binarySearch (arr, l, r, x): \n",
    "    if r >= l:\n",
    "        mid= l + math.floor(( r - l ) / 2)\n",
    "        if arr[mid] == x:\n",
    "            return mid\n",
    "        elif arr[mid] > x:\n",
    "            return binarySearch(arr,l,mid-1,x)\n",
    "        else:\n",
    "            return binarySearch(arr,mid+1,r,x) \n",
    "r.sort();\n",
    "arr=r;\n",
    "q=64;\n",
    "binarySearch(arr,0,len(arr)-1,q)\n",
    "        "
   ]
  },
  {
   "cell_type": "code",
   "execution_count": 8,
   "metadata": {},
   "outputs": [],
   "source": [
    "import sys\n",
    "sys.setrecursionlimit(15000)"
   ]
  },
  {
   "cell_type": "code",
   "execution_count": 30,
   "metadata": {},
   "outputs": [],
   "source": [
    "l1=list(range(100))\n",
    "l2=list(range(5))\n",
    "random.shuffle(l1)\n",
    "random.shuffle(l2)"
   ]
  },
  {
   "cell_type": "code",
   "execution_count": 31,
   "metadata": {},
   "outputs": [
    {
     "name": "stdout",
     "output_type": "stream",
     "text": [
      "0\n",
      "2\n",
      "1\n",
      "4\n",
      "3\n"
     ]
    }
   ],
   "source": [
    "cnt=0\n",
    "for i in l1:\n",
    "    for j in l2:\n",
    "        if(i==j):\n",
    "            print(i)"
   ]
  },
  {
   "cell_type": "code",
   "execution_count": 32,
   "metadata": {},
   "outputs": [
    {
     "name": "stdout",
     "output_type": "stream",
     "text": [
      "0\n",
      "2\n",
      "1\n",
      "4\n",
      "3\n"
     ]
    }
   ],
   "source": [
    "small={}\n",
    "for ele in l2:\n",
    "    small[ele]=1;\n",
    "cnt=0;\n",
    "for i in l1:\n",
    "    if small.get(i)!=None:\n",
    "        print(i)\n",
    "        "
   ]
  },
  {
   "cell_type": "code",
   "execution_count": null,
   "metadata": {},
   "outputs": [],
   "source": []
  }
 ],
 "metadata": {
  "kernelspec": {
   "display_name": "Python 3",
   "language": "python",
   "name": "python3"
  },
  "language_info": {
   "codemirror_mode": {
    "name": "ipython",
    "version": 3
   },
   "file_extension": ".py",
   "mimetype": "text/x-python",
   "name": "python",
   "nbconvert_exporter": "python",
   "pygments_lexer": "ipython3",
   "version": "3.6.5"
  }
 },
 "nbformat": 4,
 "nbformat_minor": 2
}
